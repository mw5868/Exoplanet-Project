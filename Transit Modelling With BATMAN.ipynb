{
 "cells": [
  {
   "cell_type": "markdown",
   "metadata": {},
   "source": [
    "# Exoplanet Project\n",
    "This repo is designed to provide educational resources related to the study of exoplanetary science.\n",
    ">Astronomy research and outreach, exploring and discovering Other Worlds!"
   ]
  },
  {
   "cell_type": "markdown",
   "metadata": {},
   "source": [
    "## What are exoplanets?\n",
    "Exoplanets are planets which orbit stars that are not our own Sun.\n",
    "\n",
    ">As of early 2018 there are over 3500 confirmed exoplanets in 594 multi-planet systems.\n",
    "\n",
    "A lot of the data this tutorial will use will be pulled from the [NASA Exoplanet Archive](https://exoplanetarchive.ipac.caltech.edu/index.html)\n",
    "The archive is a repository of open-source data collated from a number of observatories, including the famous KEPLER space telescope."
   ]
  },
  {
   "cell_type": "markdown",
   "metadata": {},
   "source": [
    "## Exoplanet Transit Lightcurve\n",
    "![alt text](http://www.exoplanetproject.co.uk/uploads/6/9/9/9/6999140/9299476_orig.jpg \"Example Transit\")"
   ]
  },
  {
   "cell_type": "markdown",
   "metadata": {},
   "source": [
    "## Transit Basics\n",
    "Transit elements are fairly easy to quantify with the following parameters\n",
    "```python\n",
    "t0 = 0.                       #time of inferior conjunction\n",
    "per = 1.                      #orbital period\n",
    "rp = 0.1                      #planet radius (in units of stellar radii)\n",
    "a = 15.                       #semi-major axis (in units of stellar radii)\n",
    "inc = 87.                     #orbital inclination (in degrees)\n",
    "ecc = 0.                      #eccentricity\n",
    "w = 90.                       #longitude of periastron (in degrees)\n",
    "u = [0.1, 0.3]                #limb darkening coefficients [u1, u2]\n",
    "limb_dark = \"quadratic\"       #limb darkening model\n",
    "\n",
    "```"
   ]
  },
  {
   "cell_type": "code",
   "execution_count": null,
   "metadata": {
    "collapsed": true
   },
   "outputs": [],
   "source": []
  }
 ],
 "metadata": {
  "kernelspec": {
   "display_name": "Python 3",
   "language": "python",
   "name": "python3"
  },
  "language_info": {
   "codemirror_mode": {
    "name": "ipython",
    "version": 3
   },
   "file_extension": ".py",
   "mimetype": "text/x-python",
   "name": "python",
   "nbconvert_exporter": "python",
   "pygments_lexer": "ipython3",
   "version": "3.6.4"
  }
 },
 "nbformat": 4,
 "nbformat_minor": 2
}
